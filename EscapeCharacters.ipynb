{
 "cells": [
  {
   "cell_type": "markdown",
   "id": "black-blackberry",
   "metadata": {},
   "source": [
    "### Escape Characters\n",
    "\n",
    "A newline character is a special control character used to indicate the end of a line (EOL). It usually doesn’t have a visible representation on the screen, but some text editors can display such non-printable characters with little graphics.\n",
    "\n",
    "They use special syntax with a preceding backslash (\\) to denote the start of an escape character sequence. Such sequences allow for representing control characters, which would be otherwise invisible on-screen.\n",
    "\n",
    "Most programming languages come with a predefined set of escape sequences for special characters such as these:\n",
    "\n",
    "|Escape Sequence|Meaning|\n",
    "|--|--|\n",
    "|\\\\|Backslash(\\)|\n",
    "|\\\\'|Single quote(')|\n",
    "|\\\\\"|Double quote(\")|\n",
    "|\\b|ASCII Backspace (BS)|\n",
    "|\\n|ASCII Linefeed (LF)|\n",
    "|\\r|ASCII Carraige Return (CR)|\n",
    "|\\t|ASCII Horizontal Tab (TAB)|"
   ]
  },
  {
   "cell_type": "code",
   "execution_count": 8,
   "id": "structured-british",
   "metadata": {},
   "outputs": [],
   "source": [
    "txt = \"We favorite book is \\\"Python Tricks\\\".\""
   ]
  },
  {
   "cell_type": "code",
   "execution_count": 9,
   "id": "dramatic-circus",
   "metadata": {},
   "outputs": [
    {
     "name": "stdout",
     "output_type": "stream",
     "text": [
      "We favorite book is \"Python Tricks\".\n"
     ]
    }
   ],
   "source": [
    "print(txt)"
   ]
  },
  {
   "cell_type": "code",
   "execution_count": 11,
   "id": "differential-lightweight",
   "metadata": {},
   "outputs": [
    {
     "name": "stdout",
     "output_type": "stream",
     "text": [
      "It's alright.\n"
     ]
    }
   ],
   "source": [
    "print('It\\'s alright.')"
   ]
  },
  {
   "cell_type": "code",
   "execution_count": 12,
   "id": "pleasant-spider",
   "metadata": {},
   "outputs": [
    {
     "name": "stdout",
     "output_type": "stream",
     "text": [
      "This will insert one \\ (backslash).\n"
     ]
    }
   ],
   "source": [
    "print(\"This will insert one \\\\ (backslash).\")"
   ]
  },
  {
   "cell_type": "code",
   "execution_count": 13,
   "id": "swiss-valuation",
   "metadata": {},
   "outputs": [
    {
     "name": "stdout",
     "output_type": "stream",
     "text": [
      "Hello\n",
      "World!\n"
     ]
    }
   ],
   "source": [
    "print(\"Hello\\nWorld!\")"
   ]
  },
  {
   "cell_type": "code",
   "execution_count": 16,
   "id": "grand-source",
   "metadata": {},
   "outputs": [
    {
     "name": "stdout",
     "output_type": "stream",
     "text": [
      "Hello\r",
      "World!\n"
     ]
    }
   ],
   "source": [
    "print(\"Hello\\rWorld!\")"
   ]
  },
  {
   "cell_type": "code",
   "execution_count": 17,
   "id": "basic-obligation",
   "metadata": {},
   "outputs": [
    {
     "name": "stdout",
     "output_type": "stream",
     "text": [
      "Hello\tWorld!\n"
     ]
    }
   ],
   "source": [
    "print(\"Hello\\tWorld!\")"
   ]
  },
  {
   "cell_type": "code",
   "execution_count": 18,
   "id": "checked-switch",
   "metadata": {},
   "outputs": [
    {
     "name": "stdout",
     "output_type": "stream",
     "text": [
      "Hello\bWorld!\n"
     ]
    }
   ],
   "source": [
    "print(\"Hello\\bWorld!\")"
   ]
  },
  {
   "cell_type": "code",
   "execution_count": 25,
   "id": "acceptable-bolivia",
   "metadata": {},
   "outputs": [
    {
     "name": "stdout",
     "output_type": "stream",
     "text": [
      "Hello\\nWorld!\n"
     ]
    }
   ],
   "source": [
    "print(r\"Hello\\nWorld!\")"
   ]
  },
  {
   "cell_type": "code",
   "execution_count": 26,
   "id": "colonial-listening",
   "metadata": {},
   "outputs": [
    {
     "name": "stdout",
     "output_type": "stream",
     "text": [
      "Hello\\nWorld!\n"
     ]
    }
   ],
   "source": [
    "print(\"Hello\\\\nWorld!\")"
   ]
  },
  {
   "cell_type": "code",
   "execution_count": null,
   "id": "premier-punishment",
   "metadata": {},
   "outputs": [],
   "source": []
  }
 ],
 "metadata": {
  "kernelspec": {
   "display_name": "Python 3",
   "language": "python",
   "name": "python3"
  },
  "language_info": {
   "codemirror_mode": {
    "name": "ipython",
    "version": 3
   },
   "file_extension": ".py",
   "mimetype": "text/x-python",
   "name": "python",
   "nbconvert_exporter": "python",
   "pygments_lexer": "ipython3",
   "version": "3.8.5"
  }
 },
 "nbformat": 4,
 "nbformat_minor": 5
}

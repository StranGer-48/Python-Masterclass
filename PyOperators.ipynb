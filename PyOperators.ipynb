{
 "cells": [
  {
   "cell_type": "markdown",
   "id": "adverse-vancouver",
   "metadata": {},
   "source": [
    "# Python Operators\n",
    "\n",
    "Operators are used to perform operations on variables and values.\n",
    "\n",
    "Python divides the operators in the following groups:\n",
    "\n",
    "* Arithmetic operators\n",
    "* Assignment operators\n",
    "* Comparison operators\n",
    "* Logical operators\n",
    "* Identity operators\n",
    "* Membership operators\n",
    "* Bitwise operators"
   ]
  },
  {
   "cell_type": "markdown",
   "id": "brazilian-country",
   "metadata": {},
   "source": [
    "### Python Arthmetic Operators\n",
    "\n",
    "Arithmetic operators are used with numeric values to perform common mathematical operations:\n",
    "\n",
    "|Operator|Name|Example|\n",
    "|--|--|--|\n",
    "|+|Addition|x + y|\n",
    "|-|Subtraction|x - y|\n",
    "|* |Multiplication| x * y|\n",
    "|/|Division|x / y|\n",
    "|%|Modulus|x % y|\n",
    "|**|Exponentiation|x**y|\n",
    "|//|Floor Division|x // y|"
   ]
  },
  {
   "cell_type": "code",
   "execution_count": 1,
   "id": "brief-suggestion",
   "metadata": {},
   "outputs": [],
   "source": [
    "a = 3\n",
    "b = 4"
   ]
  },
  {
   "cell_type": "code",
   "execution_count": 2,
   "id": "transsexual-croatia",
   "metadata": {},
   "outputs": [
    {
     "name": "stdout",
     "output_type": "stream",
     "text": [
      "7\n",
      "-1\n",
      "12\n",
      "0.75\n",
      "3\n",
      "81\n",
      "0\n"
     ]
    }
   ],
   "source": [
    "print(a+b)\n",
    "print(a-b)\n",
    "print(a*b)\n",
    "print(a/b)\n",
    "print(a%b)\n",
    "print(a**b)\n",
    "print(a//b)"
   ]
  },
  {
   "cell_type": "markdown",
   "id": "negative-saturday",
   "metadata": {},
   "source": [
    "### Python Assignment Operators\n",
    "Assignment operators are used to assign values to variables:\n",
    "\n",
    "|Operator|Example|Same As|\n",
    "|----|----|----|\n",
    "|=|x = 5|x = 5|\n",
    "|+=|x += 3|x = x + 3|\n",
    "|-=|x -= 3|x = x - 3|\n",
    "|*=|x *= 3|x = x * 3|\n",
    "|/=|x /= 3|x = x / 3|\n",
    "|%=|x %= 3|x = x % 3|\n",
    "|//=|x //= 3|x = x // 3|\n",
    "|**= |x**=3|x = x ** 3|\n",
    "|&=|x&=3|x = x & 3|\n",
    "|^=|x^=3|x = x ^ 3|\n",
    "|>>=|x>>=3|x = x>>3|\n",
    "|<<=|x<<=3|x = x<<3|"
   ]
  },
  {
   "cell_type": "code",
   "execution_count": 14,
   "id": "circular-doubt",
   "metadata": {},
   "outputs": [
    {
     "name": "stdout",
     "output_type": "stream",
     "text": [
      "5\n",
      "8\n",
      "5\n",
      "15\n",
      "5.0\n",
      "2.0\n",
      "0.0\n",
      "125\n",
      "1\n"
     ]
    }
   ],
   "source": [
    "x = 5\n",
    "print(x)\n",
    "x += 3\n",
    "print(x)\n",
    "x -= 3\n",
    "print(x)\n",
    "x *= 3\n",
    "print(x)\n",
    "x /= 3\n",
    "print(x)\n",
    "x %= 3\n",
    "print(x)\n",
    "x //= 3\n",
    "print(x)\n",
    "x = 5\n",
    "x **= 3\n",
    "print(x)\n",
    "x &= 3\n",
    "print(x)"
   ]
  },
  {
   "cell_type": "code",
   "execution_count": 15,
   "id": "ecological-september",
   "metadata": {},
   "outputs": [
    {
     "name": "stdout",
     "output_type": "stream",
     "text": [
      "0\n"
     ]
    }
   ],
   "source": [
    "x = 5\n",
    "x >>= 3\n",
    "print(x)"
   ]
  },
  {
   "cell_type": "code",
   "execution_count": 16,
   "id": "environmental-lloyd",
   "metadata": {},
   "outputs": [
    {
     "name": "stdout",
     "output_type": "stream",
     "text": [
      "40\n"
     ]
    }
   ],
   "source": [
    "x = 5\n",
    "x <<= 3\n",
    "print(x)"
   ]
  },
  {
   "cell_type": "markdown",
   "id": "classified-senator",
   "metadata": {},
   "source": [
    "### Python Comparison Operators\n",
    "\n",
    "Comparison operators are used to compare two values:\n",
    "\n",
    "|Operator|Name|Example|\n",
    "|--|--|--|\n",
    "|==|Equal|x == y|\n",
    "|!=|Not equal|x != y|\n",
    "|>|Greater than|x > y|\n",
    "|<|Less than|x < y|\n",
    "|>=|Greater than or equal to|x >= y|\n",
    "|<=|Less than or equal to|x <= y|"
   ]
  },
  {
   "cell_type": "code",
   "execution_count": 17,
   "id": "planned-ballet",
   "metadata": {},
   "outputs": [
    {
     "data": {
      "text/plain": [
       "True"
      ]
     },
     "execution_count": 17,
     "metadata": {},
     "output_type": "execute_result"
    }
   ],
   "source": [
    "1 == 1"
   ]
  },
  {
   "cell_type": "code",
   "execution_count": 18,
   "id": "natural-emperor",
   "metadata": {},
   "outputs": [
    {
     "data": {
      "text/plain": [
       "False"
      ]
     },
     "execution_count": 18,
     "metadata": {},
     "output_type": "execute_result"
    }
   ],
   "source": [
    "1 != 1"
   ]
  },
  {
   "cell_type": "code",
   "execution_count": 19,
   "id": "residential-architecture",
   "metadata": {},
   "outputs": [
    {
     "data": {
      "text/plain": [
       "False"
      ]
     },
     "execution_count": 19,
     "metadata": {},
     "output_type": "execute_result"
    }
   ],
   "source": [
    "1 > 2"
   ]
  },
  {
   "cell_type": "code",
   "execution_count": 20,
   "id": "distributed-angola",
   "metadata": {},
   "outputs": [
    {
     "data": {
      "text/plain": [
       "True"
      ]
     },
     "execution_count": 20,
     "metadata": {},
     "output_type": "execute_result"
    }
   ],
   "source": [
    "1 < 2"
   ]
  },
  {
   "cell_type": "code",
   "execution_count": 21,
   "id": "collaborative-ticket",
   "metadata": {},
   "outputs": [
    {
     "data": {
      "text/plain": [
       "True"
      ]
     },
     "execution_count": 21,
     "metadata": {},
     "output_type": "execute_result"
    }
   ],
   "source": [
    "1 <= 1"
   ]
  },
  {
   "cell_type": "code",
   "execution_count": 22,
   "id": "hungarian-calendar",
   "metadata": {},
   "outputs": [
    {
     "data": {
      "text/plain": [
       "False"
      ]
     },
     "execution_count": 22,
     "metadata": {},
     "output_type": "execute_result"
    }
   ],
   "source": [
    "1 >= 2"
   ]
  },
  {
   "cell_type": "markdown",
   "id": "healthy-recipe",
   "metadata": {},
   "source": [
    "### Python Logical Operators\n",
    "\n",
    "Logical operators are used to combine conditional statements:\n",
    "\n",
    "|Operator|Description|Example|\n",
    "|--|--|--|\n",
    "|and|Returns True if both statements are true|\tx < 5 and  x < 10|\n",
    "|or|Returns True if one of the statements is true|x < 5 or x < 4|\n",
    "|not| Reverse the result, returns False if the result is true|not(x < 5 and x < 10)|"
   ]
  },
  {
   "cell_type": "code",
   "execution_count": 23,
   "id": "forward-estimate",
   "metadata": {},
   "outputs": [],
   "source": [
    "x = 6"
   ]
  },
  {
   "cell_type": "code",
   "execution_count": 24,
   "id": "perfect-excess",
   "metadata": {},
   "outputs": [
    {
     "data": {
      "text/plain": [
       "False"
      ]
     },
     "execution_count": 24,
     "metadata": {},
     "output_type": "execute_result"
    }
   ],
   "source": [
    "x < 5 and x < 10"
   ]
  },
  {
   "cell_type": "code",
   "execution_count": 25,
   "id": "fifty-production",
   "metadata": {},
   "outputs": [
    {
     "data": {
      "text/plain": [
       "False"
      ]
     },
     "execution_count": 25,
     "metadata": {},
     "output_type": "execute_result"
    }
   ],
   "source": [
    "x < 5 or x < 4"
   ]
  },
  {
   "cell_type": "code",
   "execution_count": 26,
   "id": "intense-storm",
   "metadata": {},
   "outputs": [
    {
     "data": {
      "text/plain": [
       "True"
      ]
     },
     "execution_count": 26,
     "metadata": {},
     "output_type": "execute_result"
    }
   ],
   "source": [
    "not(x < 5 and x < 10)\n"
   ]
  },
  {
   "cell_type": "markdown",
   "id": "optimum-strain",
   "metadata": {},
   "source": [
    "### Python Identity Operators\n",
    "\n",
    "Identity operators are used to compare the objects, not if they are equal, but if they are actually the same object, with the same memory location:\n",
    "\n",
    "|Operator|Description|Example|\n",
    "|--|--|--|\n",
    "|is|Returns True if both variables are the same object|x is y|\n",
    "|is not|Returns True if both variables are not the same object|x is not y|"
   ]
  },
  {
   "cell_type": "code",
   "execution_count": 27,
   "id": "alternative-polls",
   "metadata": {},
   "outputs": [],
   "source": [
    "x = 5\n",
    "y = 5.55"
   ]
  },
  {
   "cell_type": "code",
   "execution_count": 28,
   "id": "private-leader",
   "metadata": {},
   "outputs": [
    {
     "data": {
      "text/plain": [
       "False"
      ]
     },
     "execution_count": 28,
     "metadata": {},
     "output_type": "execute_result"
    }
   ],
   "source": [
    "x is y"
   ]
  },
  {
   "cell_type": "code",
   "execution_count": 29,
   "id": "textile-aaron",
   "metadata": {},
   "outputs": [
    {
     "data": {
      "text/plain": [
       "True"
      ]
     },
     "execution_count": 29,
     "metadata": {},
     "output_type": "execute_result"
    }
   ],
   "source": [
    "x is not y"
   ]
  },
  {
   "cell_type": "markdown",
   "id": "worthy-collection",
   "metadata": {},
   "source": [
    "### Python Membership Operators\n",
    "\n",
    "Membership operators are used to test if a sequence is presented in an object:\n",
    "\n",
    "|Operator|Description|Example|\n",
    "|--|--|--|\n",
    "|in|Returns True if a sequence with the specified value is present in the object|x in y|\n",
    "|not in|\tReturns True if a sequence with the specified value is not present in the object|x not in y|"
   ]
  },
  {
   "cell_type": "code",
   "execution_count": 30,
   "id": "defensive-indonesian",
   "metadata": {},
   "outputs": [],
   "source": [
    "x = 's'\n",
    "y = 'ram'"
   ]
  },
  {
   "cell_type": "code",
   "execution_count": 31,
   "id": "otherwise-kinase",
   "metadata": {},
   "outputs": [
    {
     "data": {
      "text/plain": [
       "False"
      ]
     },
     "execution_count": 31,
     "metadata": {},
     "output_type": "execute_result"
    }
   ],
   "source": [
    "x in y"
   ]
  },
  {
   "cell_type": "code",
   "execution_count": 32,
   "id": "included-clinic",
   "metadata": {},
   "outputs": [
    {
     "data": {
      "text/plain": [
       "True"
      ]
     },
     "execution_count": 32,
     "metadata": {},
     "output_type": "execute_result"
    }
   ],
   "source": [
    "x not in y"
   ]
  },
  {
   "cell_type": "markdown",
   "id": "satisfactory-batch",
   "metadata": {},
   "source": [
    "### Python Bitwise Operators\n",
    "\n",
    "Bitwise operators are used to compare (binary) numbers:\n",
    "\n",
    "|Operator|Name|Description|\n",
    "|--|--|--|\n",
    "|&|AND|Sets each bit to 1 if both bits are 1|\n",
    "|&#124;|OR|Sets each bit to 1 if one of two bits is 1|\n",
    "|^|XOR|Sets each bit to 1 if only one of two bits is 1|\n",
    "|~|NOT|Inverts all the bits|\n",
    "|<<|Zero fill left shift|Shift left by pushing zeros in from the right and let the leftmost bits fall off|\n",
    "|>>|Signed right shift|Shift right by pushing copies of the leftmost bit in from the left, and let the rightmost bits fall off|"
   ]
  },
  {
   "cell_type": "code",
   "execution_count": 35,
   "id": "manufactured-change",
   "metadata": {},
   "outputs": [],
   "source": [
    "x = 5   #101\n",
    "y = 6   #110"
   ]
  },
  {
   "cell_type": "code",
   "execution_count": 36,
   "id": "unable-walker",
   "metadata": {},
   "outputs": [
    {
     "data": {
      "text/plain": [
       "4"
      ]
     },
     "execution_count": 36,
     "metadata": {},
     "output_type": "execute_result"
    }
   ],
   "source": [
    "x & y   # 101 & 110 = 100(4)"
   ]
  },
  {
   "cell_type": "code",
   "execution_count": 37,
   "id": "round-summit",
   "metadata": {},
   "outputs": [
    {
     "data": {
      "text/plain": [
       "7"
      ]
     },
     "execution_count": 37,
     "metadata": {},
     "output_type": "execute_result"
    }
   ],
   "source": [
    "x | y   # 101 | 110 = 111(7)   "
   ]
  },
  {
   "cell_type": "code",
   "execution_count": 38,
   "id": "another-homeless",
   "metadata": {},
   "outputs": [
    {
     "data": {
      "text/plain": [
       "3"
      ]
     },
     "execution_count": 38,
     "metadata": {},
     "output_type": "execute_result"
    }
   ],
   "source": [
    "x ^ y   # 101 ^ 110 = 011(3)"
   ]
  },
  {
   "cell_type": "code",
   "execution_count": 47,
   "id": "electric-heritage",
   "metadata": {},
   "outputs": [
    {
     "data": {
      "text/plain": [
       "-2"
      ]
     },
     "execution_count": 47,
     "metadata": {},
     "output_type": "execute_result"
    }
   ],
   "source": [
    "~1 "
   ]
  },
  {
   "cell_type": "code",
   "execution_count": 44,
   "id": "interracial-october",
   "metadata": {},
   "outputs": [
    {
     "data": {
      "text/plain": [
       "1"
      ]
     },
     "execution_count": 44,
     "metadata": {},
     "output_type": "execute_result"
    }
   ],
   "source": [
    "x>>2   # 101>>2 = 001(1)"
   ]
  },
  {
   "cell_type": "code",
   "execution_count": 45,
   "id": "adapted-electronics",
   "metadata": {},
   "outputs": [
    {
     "data": {
      "text/plain": [
       "20"
      ]
     },
     "execution_count": 45,
     "metadata": {},
     "output_type": "execute_result"
    }
   ],
   "source": [
    "x<<2   # 101<<2 = 10100(20)"
   ]
  }
 ],
 "metadata": {
  "kernelspec": {
   "display_name": "Python 3",
   "language": "python",
   "name": "python3"
  },
  "language_info": {
   "codemirror_mode": {
    "name": "ipython",
    "version": 3
   },
   "file_extension": ".py",
   "mimetype": "text/x-python",
   "name": "python",
   "nbconvert_exporter": "python",
   "pygments_lexer": "ipython3",
   "version": "3.8.5"
  }
 },
 "nbformat": 4,
 "nbformat_minor": 5
}

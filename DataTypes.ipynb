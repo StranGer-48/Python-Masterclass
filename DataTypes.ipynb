{
 "cells": [
  {
   "cell_type": "markdown",
   "id": "assured-action",
   "metadata": {},
   "source": [
    "# Data Types\n",
    "\n",
    "In programming, data types is an important concept. Variables can store data of different types, and different types can do different things. Python has the following data types built-in by default, in these categories:\n",
    "\n",
    "|categories|data types  |\n",
    "|--|--|\n",
    "|Text Type|str|\n",
    "|Numeric Types|int, float, complex|\n",
    "|Sequence Types|list, tuple, range|\n",
    "|Mapping Type|dict|\n",
    "|Set Types|set, frozenset|\n",
    "|Boolean Type|bool|\n",
    "|Binary Types|bytes, bytearray, memoryview|"
   ]
  },
  {
   "cell_type": "markdown",
   "id": "spoken-handbook",
   "metadata": {},
   "source": [
    "## Numbers Data Types\n",
    "\n",
    "There are three numeric types in Python:\n",
    "* int\n",
    "* float\n",
    "* complex\n",
    "\n",
    "Complex number theory is an advanced branch of mathematics/engineering that we're not going to attempt to example."
   ]
  },
  {
   "cell_type": "markdown",
   "id": "assisted-junction",
   "metadata": {},
   "source": [
    "### Integer & Float Data Types\n",
    "\n",
    "The Python integer data type is called **int.**\n",
    "\n",
    "Integer are just whole numbers - numbers having no factorial part; whereas the **float** is another name for real numbers - numbers having a factorial part after the decimal point.\n",
    "\n",
    "Integers can be considered just a special case of real numbers - but when represented in a computer, computations using integers are significantly faster than using floating-point numbers.\n",
    "\n",
    "Floating point numbers, or floats, are used to represent numbers having a fractorial part. The Python floating-point type is called float."
   ]
  },
  {
   "cell_type": "markdown",
   "id": "impossible-composite",
   "metadata": {},
   "source": [
    "### Numeric Operators\n"
   ]
  },
  {
   "cell_type": "code",
   "execution_count": 1,
   "id": "swiss-furniture",
   "metadata": {},
   "outputs": [],
   "source": [
    "a = 3\n",
    "b = 12"
   ]
  },
  {
   "cell_type": "code",
   "execution_count": 2,
   "id": "continental-seeking",
   "metadata": {},
   "outputs": [
    {
     "data": {
      "text/plain": [
       "15"
      ]
     },
     "execution_count": 2,
     "metadata": {},
     "output_type": "execute_result"
    }
   ],
   "source": [
    "a + b    # addition"
   ]
  },
  {
   "cell_type": "code",
   "execution_count": 3,
   "id": "egyptian-concrete",
   "metadata": {},
   "outputs": [
    {
     "data": {
      "text/plain": [
       "-9"
      ]
     },
     "execution_count": 3,
     "metadata": {},
     "output_type": "execute_result"
    }
   ],
   "source": [
    "a-b      # subtraction"
   ]
  },
  {
   "cell_type": "code",
   "execution_count": 4,
   "id": "southeast-harvard",
   "metadata": {},
   "outputs": [
    {
     "data": {
      "text/plain": [
       "36"
      ]
     },
     "execution_count": 4,
     "metadata": {},
     "output_type": "execute_result"
    }
   ],
   "source": [
    "a*b      # multiplication"
   ]
  },
  {
   "cell_type": "code",
   "execution_count": 5,
   "id": "disciplinary-warner",
   "metadata": {},
   "outputs": [
    {
     "data": {
      "text/plain": [
       "4.0"
      ]
     },
     "execution_count": 5,
     "metadata": {},
     "output_type": "execute_result"
    }
   ],
   "source": [
    "b/a      # division"
   ]
  },
  {
   "cell_type": "code",
   "execution_count": 6,
   "id": "broke-russia",
   "metadata": {},
   "outputs": [
    {
     "data": {
      "text/plain": [
       "0"
      ]
     },
     "execution_count": 6,
     "metadata": {},
     "output_type": "execute_result"
    }
   ],
   "source": [
    "b%a      # modulus"
   ]
  },
  {
   "cell_type": "code",
   "execution_count": 8,
   "id": "little-circus",
   "metadata": {},
   "outputs": [
    {
     "data": {
      "text/plain": [
       "1728"
      ]
     },
     "execution_count": 8,
     "metadata": {},
     "output_type": "execute_result"
    }
   ],
   "source": [
    "b**a     # exponent"
   ]
  },
  {
   "cell_type": "code",
   "execution_count": 9,
   "id": "verified-angel",
   "metadata": {},
   "outputs": [
    {
     "data": {
      "text/plain": [
       "4"
      ]
     },
     "execution_count": 9,
     "metadata": {},
     "output_type": "execute_result"
    }
   ],
   "source": [
    "b//a     # floor division"
   ]
  },
  {
   "cell_type": "markdown",
   "id": "recognized-finding",
   "metadata": {},
   "source": [
    "### Operator Precedence\n",
    "\n",
    "**PEMDAS** — Parentheses, Exponents, Multiplication/Division, Addition/Subtraction  \n",
    "**BEDMAS** — Brackets, Exponents, Division/Multiplication, Addition/Subtraction  \n",
    "**BODMAS** — Brackets, Order, Division/Multiplication, Addition/Subtraction  \n",
    "**BIDMAS** — Brackets, Index, Division/Multiplication, Addition/Subtraction\n",
    "\n",
    "We sometimes interpret them as meaning that multiplication has higher precedence than division, and addition has higher precedence than subtraction.\n",
    "\n",
    "That’s not the case. Multiplication and division have equal precedence. Addition and subtraction also have equal precedence. In an expression that mixes operations with equal precedence, they are evaluated from left to right.\n"
   ]
  },
  {
   "cell_type": "code",
   "execution_count": 10,
   "id": "enabling-concept",
   "metadata": {},
   "outputs": [
    {
     "name": "stdout",
     "output_type": "stream",
     "text": [
      "-41.0\n"
     ]
    }
   ],
   "source": [
    "print(a + b / 3 - 4 * 12)"
   ]
  },
  {
   "cell_type": "code",
   "execution_count": 11,
   "id": "suited-politics",
   "metadata": {},
   "outputs": [
    {
     "name": "stdout",
     "output_type": "stream",
     "text": [
      "-41.0\n"
     ]
    }
   ],
   "source": [
    "print(a + (b / 3) - (4 * 12))"
   ]
  },
  {
   "cell_type": "code",
   "execution_count": 12,
   "id": "contained-conversation",
   "metadata": {},
   "outputs": [
    {
     "name": "stdout",
     "output_type": "stream",
     "text": [
      "12.0\n"
     ]
    }
   ],
   "source": [
    "print((((a + b) / 3) - 4) * 12)"
   ]
  },
  {
   "cell_type": "code",
   "execution_count": 13,
   "id": "native-underwear",
   "metadata": {},
   "outputs": [
    {
     "name": "stdout",
     "output_type": "stream",
     "text": [
      "12.0\n"
     ]
    }
   ],
   "source": [
    "print(((a + b) / 3 - 4) * 12)"
   ]
  },
  {
   "cell_type": "code",
   "execution_count": 14,
   "id": "about-vegetation",
   "metadata": {},
   "outputs": [
    {
     "name": "stdout",
     "output_type": "stream",
     "text": [
      "12.0\n"
     ]
    }
   ],
   "source": [
    "c = a + b\n",
    "d = c / 3\n",
    "e = d - 4\n",
    "print(e * 12)"
   ]
  },
  {
   "cell_type": "markdown",
   "id": "confirmed-statistics",
   "metadata": {},
   "source": [
    "## String Data Types\n",
    "\n",
    "In Python, Strings are arrays of bytes representing Unicode characters. A string is a collection of one or more characters put in a single quote, double-quote, or triple quote. In Python there is no character data type, a character is a string of length one. It is represented by an str class. Strings in Python can be created using single quotes or double quotes or even triple quotes.\n"
   ]
  },
  {
   "cell_type": "code",
   "execution_count": 15,
   "id": "modern-musical",
   "metadata": {},
   "outputs": [
    {
     "name": "stdout",
     "output_type": "stream",
     "text": [
      "String with the use of Single Quotes: \n",
      "Welcome to Online Python Course\n"
     ]
    }
   ],
   "source": [
    "String1 = 'Welcome to Online Python Course'\n",
    "print(\"String with the use of Single Quotes: \")\n",
    "print(String1)"
   ]
  },
  {
   "cell_type": "code",
   "execution_count": 20,
   "id": "liked-preview",
   "metadata": {},
   "outputs": [
    {
     "name": "stdout",
     "output_type": "stream",
     "text": [
      "String with the use of Double Quotes: \n",
      "I'm a artist\n"
     ]
    }
   ],
   "source": [
    "String2 = \"I'm a artist\"\n",
    "print(\"String with the use of Double Quotes: \")\n",
    "print(String2)"
   ]
  },
  {
   "cell_type": "code",
   "execution_count": 21,
   "id": "interpreted-allocation",
   "metadata": {},
   "outputs": [
    {
     "name": "stdout",
     "output_type": "stream",
     "text": [
      "String with the use of Triple Quotes: \n",
      "I'm a human and I live in this world\n"
     ]
    }
   ],
   "source": [
    "String3 = '''I'm a human and I live in this world'''\n",
    "print(\"String with the use of Triple Quotes: \")\n",
    "print(String3)"
   ]
  },
  {
   "cell_type": "code",
   "execution_count": 23,
   "id": "mechanical-stand",
   "metadata": {},
   "outputs": [
    {
     "name": "stdout",
     "output_type": "stream",
     "text": [
      "Creating a multiline String: \n",
      "Life \n",
      "is\n",
      "beautiful\n"
     ]
    }
   ],
   "source": [
    "String4 = \"\"\"Life \n",
    "is\n",
    "beautiful\"\"\"\n",
    "print(\"Creating a multiline String: \")\n",
    "print(String4)"
   ]
  },
  {
   "cell_type": "code",
   "execution_count": 24,
   "id": "temporal-result",
   "metadata": {},
   "outputs": [
    {
     "name": "stdout",
     "output_type": "stream",
     "text": [
      "3\n"
     ]
    }
   ],
   "source": [
    "print(1+2)"
   ]
  },
  {
   "cell_type": "code",
   "execution_count": 25,
   "id": "alleged-compiler",
   "metadata": {},
   "outputs": [
    {
     "name": "stdout",
     "output_type": "stream",
     "text": [
      "42\n"
     ]
    }
   ],
   "source": [
    "print(7*6)"
   ]
  },
  {
   "cell_type": "code",
   "execution_count": 26,
   "id": "thermal-israeli",
   "metadata": {},
   "outputs": [
    {
     "name": "stdout",
     "output_type": "stream",
     "text": [
      "\n"
     ]
    }
   ],
   "source": [
    "print()"
   ]
  },
  {
   "cell_type": "code",
   "execution_count": 28,
   "id": "determined-symbol",
   "metadata": {},
   "outputs": [
    {
     "name": "stdout",
     "output_type": "stream",
     "text": [
      "3\n",
      "42\n",
      "\n",
      "The end or is it? keep watching to learn more about Python 3\n"
     ]
    }
   ],
   "source": [
    "print(1 + 2)\n",
    "print(7 * 6)\n",
    "print()\n",
    "print(\"The end\", \"or is it?\",\"keep watching to learn more about Python\", 3)"
   ]
  },
  {
   "cell_type": "markdown",
   "id": "suitable-worker",
   "metadata": {},
   "source": [
    "let’s see examples of how single and double quotes are used in a print statement:"
   ]
  },
  {
   "cell_type": "code",
   "execution_count": 29,
   "id": "reserved-narrative",
   "metadata": {},
   "outputs": [
    {
     "name": "stdout",
     "output_type": "stream",
     "text": [
      "Today is a good day to learn Python\n",
      "Python is fun\n",
      "Python's strings are easy to use\n",
      "We can even include \"quotes\" in strings\n"
     ]
    }
   ],
   "source": [
    "print(\"Today is a good day to learn Python\")\n",
    "print('Python is fun')\n",
    "print(\"Python's strings are easy to use\")\n",
    "print('We can even include \"quotes\" in strings')"
   ]
  },
  {
   "cell_type": "code",
   "execution_count": 30,
   "id": "latter-being",
   "metadata": {},
   "outputs": [
    {
     "name": "stdout",
     "output_type": "stream",
     "text": [
      "hello World\n"
     ]
    }
   ],
   "source": [
    "print(\"hello\" + \" World\")"
   ]
  },
  {
   "cell_type": "code",
   "execution_count": 31,
   "id": "tough-secretariat",
   "metadata": {},
   "outputs": [],
   "source": [
    "greeting = \"Hello\"\n",
    "name = \"Sri Ram\""
   ]
  },
  {
   "cell_type": "code",
   "execution_count": 32,
   "id": "blocked-corporation",
   "metadata": {},
   "outputs": [
    {
     "name": "stdout",
     "output_type": "stream",
     "text": [
      "HelloSri Ram\n"
     ]
    }
   ],
   "source": [
    "print(greeting + name)"
   ]
  },
  {
   "cell_type": "code",
   "execution_count": 36,
   "id": "simple-fountain",
   "metadata": {},
   "outputs": [
    {
     "name": "stdout",
     "output_type": "stream",
     "text": [
      "Please enter your name Sri Ram\n",
      "HelloSri Ram\n"
     ]
    }
   ],
   "source": [
    "name = input(\"Please enter your name \")\n",
    "print(greeting + name)"
   ]
  },
  {
   "cell_type": "markdown",
   "id": "expressed-january",
   "metadata": {},
   "source": [
    "**Accessing elements of String**\n",
    "\n",
    "In Python, individual characters of a string can be accessed by using the method of Indexing.\n",
    "\n",
    "|H|e|L|L|o| |W|o|r|l|D|\n",
    "|-|-|-|-|-|-|-|-|-|-|-|\n",
    "|0|1|2|3|4|5|6|7|8|9|10|\n",
    "|-11|-10|-9|-8|-7|-6|-5|-4|-3|-2|-1|"
   ]
  },
  {
   "cell_type": "code",
   "execution_count": 37,
   "id": "several-muscle",
   "metadata": {},
   "outputs": [],
   "source": [
    "string = \"HeLLo WorlD\""
   ]
  },
  {
   "cell_type": "code",
   "execution_count": 38,
   "id": "preceding-april",
   "metadata": {},
   "outputs": [
    {
     "name": "stdout",
     "output_type": "stream",
     "text": [
      "HeLLo WorlD\n",
      "L\n"
     ]
    }
   ],
   "source": [
    "print(string)\n",
    "print(string[2])"
   ]
  },
  {
   "cell_type": "markdown",
   "id": "improving-finland",
   "metadata": {},
   "source": [
    "String slicing is about obtaining a sub-string from the given string by slicing it respectively from start to end."
   ]
  },
  {
   "cell_type": "code",
   "execution_count": 41,
   "id": "listed-mentor",
   "metadata": {},
   "outputs": [
    {
     "name": "stdout",
     "output_type": "stream",
     "text": [
      "HeLLo W\n"
     ]
    }
   ],
   "source": [
    "print(string[0:7])"
   ]
  },
  {
   "cell_type": "code",
   "execution_count": 42,
   "id": "baking-forest",
   "metadata": {},
   "outputs": [
    {
     "name": "stdout",
     "output_type": "stream",
     "text": [
      "Worl\n"
     ]
    }
   ],
   "source": [
    "print(string[-5:-1])"
   ]
  },
  {
   "cell_type": "markdown",
   "id": "amazing-smart",
   "metadata": {},
   "source": [
    "Slicing can be performed by taking a step value. Let’s see them:"
   ]
  },
  {
   "cell_type": "code",
   "execution_count": 44,
   "id": "mechanical-approval",
   "metadata": {},
   "outputs": [
    {
     "name": "stdout",
     "output_type": "stream",
     "text": [
      "HLoW\n",
      "HLW\n"
     ]
    }
   ],
   "source": [
    "print(string[0:8:2])\n",
    "print(string[0:8:3])"
   ]
  },
  {
   "cell_type": "markdown",
   "id": "medical-charger",
   "metadata": {},
   "source": [
    "| H |   | L |   | o |   | W |  |  |  |   |  |\n",
    "|---|---|---|---|--|---|---|---|---|---|---|---|\n",
    "| 0 | 1 | 2 | 3 | 4 | 5 | 6 | 7 | 8 | 9 | 10 | 11 |\n",
    "| -12 | -11 | -10 | -9 | -8 | -7 | -6 | -5 | -4 | -3 | -2 | -1 |\n",
    "\n",
    "| H |   |   | L |   |   | W |  |  |  |   |  |\n",
    "|---|---|---|---|--|---|---|---|---|---|---|---|\n",
    "| 0 | 1 | 2 | 3 | 4 | 5 | 6 | 7 | 8 | 9 | 10 | 11 |\n",
    "| -12 | -11 | -10 | -9 | -8 | -7 | -6 | -5 | -4 | -3 | -2 | -1 |\n",
    "\n",
    "Slicing can be done backward:"
   ]
  },
  {
   "cell_type": "code",
   "execution_count": 47,
   "id": "regular-bowling",
   "metadata": {},
   "outputs": [
    {
     "name": "stdout",
     "output_type": "stream",
     "text": [
      "zyxwvutsrqponmlkjihgfedcb\n",
      "\n"
     ]
    }
   ],
   "source": [
    "letters = \"abcdefghijklmnopqrstuvwxyz\"\n",
    "backwards1 = letters[25:0:-1]\n",
    "print(backwards1)\n",
    "backwards2 = letters[25:-1:-1]\n",
    "print(backwards2)      "
   ]
  },
  {
   "cell_type": "markdown",
   "id": "passing-scotland",
   "metadata": {},
   "source": [
    "when you use a negative step then the starting value will be the end value and the end value will be starting value."
   ]
  },
  {
   "cell_type": "code",
   "execution_count": 48,
   "id": "raising-perth",
   "metadata": {},
   "outputs": [
    {
     "name": "stdout",
     "output_type": "stream",
     "text": [
      "zyxwvutsrqponmlkjihgfedcba\n"
     ]
    }
   ],
   "source": [
    "backwards = letters[::-1]\n",
    "print(backwards)"
   ]
  },
  {
   "cell_type": "markdown",
   "id": "static-museum",
   "metadata": {},
   "source": [
    "### String Operators"
   ]
  },
  {
   "cell_type": "code",
   "execution_count": 49,
   "id": "preliminary-neutral",
   "metadata": {},
   "outputs": [],
   "source": [
    "string1 = \"he's \"\n",
    "string2 = \"probably \"\n",
    "string3 = \"preparing \"\n",
    "string4 = \"for \"\n",
    "string5 = \"inteviews\""
   ]
  },
  {
   "cell_type": "code",
   "execution_count": 51,
   "id": "single-summary",
   "metadata": {},
   "outputs": [
    {
     "name": "stdout",
     "output_type": "stream",
     "text": [
      "he's probably preparing for inteviews\n"
     ]
    }
   ],
   "source": [
    "print(string1 + string2 + string3 + string4 + string5)"
   ]
  },
  {
   "cell_type": "code",
   "execution_count": 52,
   "id": "seven-addition",
   "metadata": {},
   "outputs": [
    {
     "name": "stdout",
     "output_type": "stream",
     "text": [
      "he's probably preparing for interviews \n"
     ]
    }
   ],
   "source": [
    "print(\"he's \" \"probably \" \"preparing \" \"for \" \"interviews \")"
   ]
  },
  {
   "cell_type": "code",
   "execution_count": 53,
   "id": "stuck-assist",
   "metadata": {},
   "outputs": [
    {
     "name": "stdout",
     "output_type": "stream",
     "text": [
      "Hello Hello Hello Hello Hello \n"
     ]
    }
   ],
   "source": [
    "print(\"Hello \" * 5)"
   ]
  },
  {
   "cell_type": "code",
   "execution_count": 54,
   "id": "incorporated-migration",
   "metadata": {},
   "outputs": [
    {
     "ename": "TypeError",
     "evalue": "can only concatenate str (not \"int\") to str",
     "output_type": "error",
     "traceback": [
      "\u001b[1;31m---------------------------------------------------------------------------\u001b[0m",
      "\u001b[1;31mTypeError\u001b[0m                                 Traceback (most recent call last)",
      "\u001b[1;32m<ipython-input-54-05726392ce5d>\u001b[0m in \u001b[0;36m<module>\u001b[1;34m\u001b[0m\n\u001b[1;32m----> 1\u001b[1;33m \u001b[0mprint\u001b[0m\u001b[1;33m(\u001b[0m\u001b[1;34m\"Hello \"\u001b[0m \u001b[1;33m*\u001b[0m \u001b[1;36m5\u001b[0m \u001b[1;33m+\u001b[0m \u001b[1;36m4\u001b[0m\u001b[1;33m)\u001b[0m \u001b[1;31m# gives error\u001b[0m\u001b[1;33m\u001b[0m\u001b[1;33m\u001b[0m\u001b[0m\n\u001b[0m",
      "\u001b[1;31mTypeError\u001b[0m: can only concatenate str (not \"int\") to str"
     ]
    }
   ],
   "source": [
    "print(\"Hello \" * 5 + 4) # gives error"
   ]
  },
  {
   "cell_type": "code",
   "execution_count": 55,
   "id": "instant-anniversary",
   "metadata": {},
   "outputs": [
    {
     "name": "stdout",
     "output_type": "stream",
     "text": [
      "Hello Hello Hello Hello Hello Hello Hello Hello Hello \n"
     ]
    }
   ],
   "source": [
    "print(\"Hello \" * (5 + 4))"
   ]
  },
  {
   "cell_type": "code",
   "execution_count": 56,
   "id": "molecular-refrigerator",
   "metadata": {},
   "outputs": [
    {
     "name": "stdout",
     "output_type": "stream",
     "text": [
      "Hello Hello Hello Hello Hello 4\n"
     ]
    }
   ],
   "source": [
    "print(\"Hello \" * 5 + \"4\")"
   ]
  },
  {
   "cell_type": "markdown",
   "id": "sunrise-mayor",
   "metadata": {},
   "source": [
    "we can check one string is a substring of another string."
   ]
  },
  {
   "cell_type": "code",
   "execution_count": 57,
   "id": "fresh-communication",
   "metadata": {},
   "outputs": [],
   "source": [
    "today = \"friday\""
   ]
  },
  {
   "cell_type": "code",
   "execution_count": 58,
   "id": "french-premises",
   "metadata": {},
   "outputs": [
    {
     "name": "stdout",
     "output_type": "stream",
     "text": [
      "True\n"
     ]
    }
   ],
   "source": [
    "print(\"day\" in today)"
   ]
  },
  {
   "cell_type": "code",
   "execution_count": 59,
   "id": "demanding-alfred",
   "metadata": {},
   "outputs": [
    {
     "name": "stdout",
     "output_type": "stream",
     "text": [
      "True\n"
     ]
    }
   ],
   "source": [
    "print(\"fri\" in today)"
   ]
  },
  {
   "cell_type": "code",
   "execution_count": 60,
   "id": "empirical-flooring",
   "metadata": {},
   "outputs": [
    {
     "name": "stdout",
     "output_type": "stream",
     "text": [
      "False\n"
     ]
    }
   ],
   "source": [
    "print(\"thur\" in today)"
   ]
  },
  {
   "cell_type": "markdown",
   "id": "recorded-eagle",
   "metadata": {},
   "source": [
    "### String Replacement Fields\n",
    "\n",
    "When performing strings and numbers, it would often be convenient to display both values using a single call to print. For example, we may want to print a description of what a value is, before the value itself."
   ]
  },
  {
   "cell_type": "code",
   "execution_count": 61,
   "id": "tender-appendix",
   "metadata": {},
   "outputs": [],
   "source": [
    "age = 24"
   ]
  },
  {
   "cell_type": "code",
   "execution_count": 63,
   "id": "comprehensive-guitar",
   "metadata": {},
   "outputs": [
    {
     "name": "stdout",
     "output_type": "stream",
     "text": [
      "My age is 24 years\n"
     ]
    }
   ],
   "source": [
    "print(\"My age is \" + str(age) + \" years\")"
   ]
  },
  {
   "cell_type": "markdown",
   "id": "forty-modem",
   "metadata": {},
   "source": [
    "### String Formating\n",
    "In Python there are two formatting techniques:\n",
    "\n",
    "* The string .format() method\n",
    "* The formatted string literal, or f-string\n",
    "\n",
    "**The Python String .format() Method:** It’s similar in many ways to the string modulo operator, but .format() goes well beyond in versatility. The general form of a Python .format() call is shown below:\n",
    "\n",
    "> template.format(<positional_argument(s)>, <keyword_argument(s)>)"
   ]
  },
  {
   "cell_type": "code",
   "execution_count": 66,
   "id": "defensive-witch",
   "metadata": {},
   "outputs": [
    {
     "name": "stdout",
     "output_type": "stream",
     "text": [
      "{ foo }\n"
     ]
    }
   ],
   "source": [
    "print('{{ {0} }}'.format('foo'))"
   ]
  },
  {
   "cell_type": "code",
   "execution_count": 67,
   "id": "documentary-above",
   "metadata": {},
   "outputs": [
    {
     "name": "stdout",
     "output_type": "stream",
     "text": [
      "6 bananas cost $1.74\n"
     ]
    }
   ],
   "source": [
    "print('{0} {1} cost ${2}'.format(6, 'bananas', 1.74))"
   ]
  },
  {
   "cell_type": "code",
   "execution_count": 69,
   "id": "settled-robertson",
   "metadata": {},
   "outputs": [
    {
     "ename": "SyntaxError",
     "evalue": "positional argument follows keyword argument (<ipython-input-69-3690d5265508>, line 1)",
     "output_type": "error",
     "traceback": [
      "\u001b[1;36m  File \u001b[1;32m\"<ipython-input-69-3690d5265508>\"\u001b[1;36m, line \u001b[1;32m1\u001b[0m\n\u001b[1;33m    print('{x} {y} cost ${0}'.format(x = 6, 1.74, y = 'bananas'))\u001b[0m\n\u001b[1;37m                                            ^\u001b[0m\n\u001b[1;31mSyntaxError\u001b[0m\u001b[1;31m:\u001b[0m positional argument follows keyword argument\n"
     ]
    }
   ],
   "source": [
    "print('{x} {y} cost ${0}'.format(x = 6, 1.74, y = 'bananas'))"
   ]
  },
  {
   "cell_type": "code",
   "execution_count": 68,
   "id": "saving-alert",
   "metadata": {},
   "outputs": [
    {
     "name": "stdout",
     "output_type": "stream",
     "text": [
      "6 bananas cost $1.74\n"
     ]
    }
   ],
   "source": [
    "print('{x} {y} cost ${0}'.format(1.74, x = 6, y = 'bananas'))"
   ]
  },
  {
   "cell_type": "markdown",
   "id": "british-wallpaper",
   "metadata": {},
   "source": [
    "**The Python Formatted String Literal (f-String):** In version 3.6, a new Python string formatting syntax was introduced, called the formatted string literal. These are also informally called f-string."
   ]
  },
  {
   "cell_type": "code",
   "execution_count": 70,
   "id": "urban-damages",
   "metadata": {},
   "outputs": [
    {
     "name": "stdout",
     "output_type": "stream",
     "text": [
      "foo bar baz\n"
     ]
    }
   ],
   "source": [
    "print(f'foo bar baz')"
   ]
  },
  {
   "cell_type": "markdown",
   "id": "medical-alaska",
   "metadata": {},
   "source": [
    "The magic off-string is that you can embed Python expressions directly inside them. Any portion of an f-string that’s enclosed in curly braces ({}) is treated as an expression. The expression is evaluated and converted to string representation, and the result is interpolated into the original string in that location:"
   ]
  },
  {
   "cell_type": "code",
   "execution_count": 71,
   "id": "composite-philadelphia",
   "metadata": {},
   "outputs": [
    {
     "name": "stdout",
     "output_type": "stream",
     "text": [
      "foo.bar.baz\n"
     ]
    }
   ],
   "source": [
    "s = 'bar'\n",
    "print(f'foo.{s}.baz')"
   ]
  },
  {
   "cell_type": "code",
   "execution_count": 72,
   "id": "wrong-mistake",
   "metadata": {},
   "outputs": [],
   "source": [
    "quantity = 6\n",
    "item = 'bananas'\n",
    "price = 1.74"
   ]
  },
  {
   "cell_type": "code",
   "execution_count": 75,
   "id": "working-christianity",
   "metadata": {},
   "outputs": [
    {
     "name": "stdout",
     "output_type": "stream",
     "text": [
      "6 bananas cost $1.74\n"
     ]
    }
   ],
   "source": [
    "print(f'{quantity} {item} cost ${price}')"
   ]
  },
  {
   "cell_type": "markdown",
   "id": "arctic-compact",
   "metadata": {},
   "source": [
    "Expressions embedded in f-string can be almost arbitrarily complex. The example below show some of the possibilities:\n",
    "\n",
    "* Variable\n",
    "* Arithmetic expressions\n",
    "* Objects of composite types\n",
    "* Indexing, slicing and key references\n",
    "* Function and method calls\n",
    "* Conditional expressions"
   ]
  },
  {
   "cell_type": "code",
   "execution_count": null,
   "id": "lightweight-bernard",
   "metadata": {},
   "outputs": [],
   "source": []
  }
 ],
 "metadata": {
  "kernelspec": {
   "display_name": "Python 3",
   "language": "python",
   "name": "python3"
  },
  "language_info": {
   "codemirror_mode": {
    "name": "ipython",
    "version": 3
   },
   "file_extension": ".py",
   "mimetype": "text/x-python",
   "name": "python",
   "nbconvert_exporter": "python",
   "pygments_lexer": "ipython3",
   "version": "3.8.5"
  }
 },
 "nbformat": 4,
 "nbformat_minor": 5
}

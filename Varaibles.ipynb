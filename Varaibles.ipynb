{
 "cells": [
  {
   "cell_type": "markdown",
   "id": "primary-freeze",
   "metadata": {},
   "source": [
    "# Variables in Python\n",
    "\n",
    "When a program is running, everything the program needs ends up stored in the computer's memory. The program code itself will be stored in one area of memory, and the data it works on will also be stored somewhere in memory."
   ]
  },
  {
   "cell_type": "code",
   "execution_count": 2,
   "id": "silent-mounting",
   "metadata": {},
   "outputs": [
    {
     "name": "stdout",
     "output_type": "stream",
     "text": [
      "I am Sri Ram\n"
     ]
    }
   ],
   "source": [
    "name = \"Sri Ram\"\n",
    "print(\"I am \" + name)"
   ]
  },
  {
   "cell_type": "code",
   "execution_count": 3,
   "id": "heated-moderator",
   "metadata": {},
   "outputs": [
    {
     "data": {
      "text/plain": [
       "1594527833968"
      ]
     },
     "execution_count": 3,
     "metadata": {},
     "output_type": "execute_result"
    }
   ],
   "source": [
    "id(name)"
   ]
  },
  {
   "cell_type": "markdown",
   "id": "emerging-original",
   "metadata": {},
   "source": [
    "### There are few rules for variable names:\n",
    "* Python variable names must begin with a letter (either upper or lower case) or an underscore _ character.\n",
    "* They can contain letters, numbers, or underscore characters (but cannot begin with a number).\n",
    "* Python variables are case sensitive, so greeting and Greeting would refer to 2 different variables.\n",
    "* Variables are created when they are first attached to a value, using =.\n",
    "\n",
    "Python variables do not need an explicit declaration to reserve memory space. The declaration happens automatically when you assign a value to a variable. The equal sign (=) is used to assign values to variables."
   ]
  },
  {
   "cell_type": "code",
   "execution_count": 4,
   "id": "massive-corporation",
   "metadata": {},
   "outputs": [],
   "source": [
    "a = 100\n",
    "b = 1000.0\n",
    "name = \"Sri Ram\"\n"
   ]
  },
  {
   "cell_type": "code",
   "execution_count": 5,
   "id": "attended-intellectual",
   "metadata": {},
   "outputs": [
    {
     "data": {
      "text/plain": [
       "int"
      ]
     },
     "execution_count": 5,
     "metadata": {},
     "output_type": "execute_result"
    }
   ],
   "source": [
    "type(a)"
   ]
  },
  {
   "cell_type": "code",
   "execution_count": 6,
   "id": "horizontal-madonna",
   "metadata": {},
   "outputs": [
    {
     "data": {
      "text/plain": [
       "float"
      ]
     },
     "execution_count": 6,
     "metadata": {},
     "output_type": "execute_result"
    }
   ],
   "source": [
    "type(b)"
   ]
  },
  {
   "cell_type": "code",
   "execution_count": 7,
   "id": "exclusive-presence",
   "metadata": {},
   "outputs": [
    {
     "data": {
      "text/plain": [
       "str"
      ]
     },
     "execution_count": 7,
     "metadata": {},
     "output_type": "execute_result"
    }
   ],
   "source": [
    "type(name)"
   ]
  },
  {
   "cell_type": "code",
   "execution_count": 8,
   "id": "executive-lottery",
   "metadata": {},
   "outputs": [],
   "source": [
    "a = b = c = 1"
   ]
  },
  {
   "cell_type": "code",
   "execution_count": 11,
   "id": "israeli-thriller",
   "metadata": {},
   "outputs": [
    {
     "name": "stdout",
     "output_type": "stream",
     "text": [
      "140724211164960\n",
      "140724211164960\n",
      "140724211165088\n"
     ]
    }
   ],
   "source": [
    "print(id(a))\n",
    "print(id(b))\n",
    "print(id(c))"
   ]
  },
  {
   "cell_type": "code",
   "execution_count": 10,
   "id": "beginning-imaging",
   "metadata": {},
   "outputs": [],
   "source": [
    "c = 5"
   ]
  },
  {
   "cell_type": "code",
   "execution_count": 12,
   "id": "veterinary-paragraph",
   "metadata": {},
   "outputs": [],
   "source": [
    "a,b,c = 100,1000.0,\"Sri Ram\""
   ]
  },
  {
   "cell_type": "code",
   "execution_count": 13,
   "id": "correct-receiver",
   "metadata": {},
   "outputs": [
    {
     "name": "stdout",
     "output_type": "stream",
     "text": [
      "100 1000.0 Sri Ram\n"
     ]
    }
   ],
   "source": [
    "print(a, b, c)"
   ]
  },
  {
   "cell_type": "markdown",
   "id": "welsh-skill",
   "metadata": {},
   "source": [
    "Python is both strongly typed and a dynamically typed language."
   ]
  },
  {
   "cell_type": "code",
   "execution_count": 14,
   "id": "adult-hometown",
   "metadata": {},
   "outputs": [
    {
     "name": "stdout",
     "output_type": "stream",
     "text": [
      "1100.0\n"
     ]
    }
   ],
   "source": [
    "print(a + b)"
   ]
  },
  {
   "cell_type": "code",
   "execution_count": 15,
   "id": "identified-championship",
   "metadata": {},
   "outputs": [
    {
     "ename": "TypeError",
     "evalue": "unsupported operand type(s) for +: 'int' and 'str'",
     "output_type": "error",
     "traceback": [
      "\u001b[1;31m---------------------------------------------------------------------------\u001b[0m",
      "\u001b[1;31mTypeError\u001b[0m                                 Traceback (most recent call last)",
      "\u001b[1;32m<ipython-input-15-29620a3af8d7>\u001b[0m in \u001b[0;36m<module>\u001b[1;34m\u001b[0m\n\u001b[1;32m----> 1\u001b[1;33m \u001b[0mprint\u001b[0m\u001b[1;33m(\u001b[0m\u001b[0ma\u001b[0m\u001b[1;33m+\u001b[0m\u001b[0mc\u001b[0m\u001b[1;33m)\u001b[0m\u001b[1;33m\u001b[0m\u001b[1;33m\u001b[0m\u001b[0m\n\u001b[0m",
      "\u001b[1;31mTypeError\u001b[0m: unsupported operand type(s) for +: 'int' and 'str'"
     ]
    }
   ],
   "source": [
    "print(a+c)"
   ]
  },
  {
   "cell_type": "code",
   "execution_count": 16,
   "id": "handy-caribbean",
   "metadata": {},
   "outputs": [],
   "source": [
    "c = 5"
   ]
  },
  {
   "cell_type": "code",
   "execution_count": 17,
   "id": "centered-turning",
   "metadata": {},
   "outputs": [
    {
     "name": "stdout",
     "output_type": "stream",
     "text": [
      "5\n"
     ]
    }
   ],
   "source": [
    "print(c)"
   ]
  },
  {
   "cell_type": "code",
   "execution_count": null,
   "id": "illegal-wallet",
   "metadata": {},
   "outputs": [],
   "source": []
  }
 ],
 "metadata": {
  "kernelspec": {
   "display_name": "Python 3",
   "language": "python",
   "name": "python3"
  },
  "language_info": {
   "codemirror_mode": {
    "name": "ipython",
    "version": 3
   },
   "file_extension": ".py",
   "mimetype": "text/x-python",
   "name": "python",
   "nbconvert_exporter": "python",
   "pygments_lexer": "ipython3",
   "version": "3.8.5"
  }
 },
 "nbformat": 4,
 "nbformat_minor": 5
}

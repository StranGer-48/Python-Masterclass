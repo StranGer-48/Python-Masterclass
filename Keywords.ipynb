{
 "cells": [
  {
   "cell_type": "markdown",
   "id": "facial-lloyd",
   "metadata": {},
   "source": [
    "# Keywords in Python"
   ]
  },
  {
   "cell_type": "code",
   "execution_count": 10,
   "id": "metallic-marble",
   "metadata": {},
   "outputs": [
    {
     "name": "stdout",
     "output_type": "stream",
     "text": [
      "['False', 'None', 'True', 'and', 'as', 'assert', 'async', 'await', 'break', 'class', 'continue', 'def', 'del', 'elif', 'else', 'except', 'finally', 'for', 'from', 'global', 'if', 'import', 'in', 'is', 'lambda', 'nonlocal', 'not', 'or', 'pass', 'raise', 'return', 'try', 'while', 'with', 'yield']\n"
     ]
    }
   ],
   "source": [
    "import keyword\n",
    "print(keyword.kwlist)"
   ]
  },
  {
   "cell_type": "markdown",
   "id": "incident-saver",
   "metadata": {},
   "source": [
    "1. **True:** This Keyword is used to represent a boolean true. If a statement is true, \"True\" is printed.\n",
    "\n",
    "2. **False:** This keyword is used to represent a booleann false. If a statement is false, \"False\" is printed.\n",
    "\n",
    "True and False in python are same as 1 and 0."
   ]
  },
  {
   "cell_type": "code",
   "execution_count": null,
   "id": "eligible-moore",
   "metadata": {},
   "outputs": [],
   "source": [
    "print(False == 0)\n",
    "print(True == 1)\n",
    "\n",
    "print(True + True + True)\n",
    "print(True + False + False)"
   ]
  },
  {
   "cell_type": "markdown",
   "id": "painful-insurance",
   "metadata": {},
   "source": [
    "3. **None:** This is a special constant used to denoted a null value or a void. It important to remember, 0, any empty container(e.g empty list) do not compute to None.\n",
    "\n",
    "It is an object of its datatype - NoneType. It is not possible to create multiple None objects and can assign them to variables."
   ]
  },
  {
   "cell_type": "code",
   "execution_count": null,
   "id": "ignored-chassis",
   "metadata": {},
   "outputs": [],
   "source": [
    "a = 0\n",
    "b = []\n"
   ]
  },
  {
   "cell_type": "code",
   "execution_count": null,
   "id": "romance-consent",
   "metadata": {},
   "outputs": [],
   "source": [
    "a == None"
   ]
  },
  {
   "cell_type": "code",
   "execution_count": null,
   "id": "designed-radiation",
   "metadata": {},
   "outputs": [],
   "source": [
    "b == None"
   ]
  },
  {
   "cell_type": "code",
   "execution_count": null,
   "id": "popular-revolution",
   "metadata": {},
   "outputs": [],
   "source": [
    "x = None\n",
    "y = None\n",
    "x == y"
   ]
  },
  {
   "cell_type": "markdown",
   "id": "speaking-sharp",
   "metadata": {},
   "source": [
    "4. **and:** This a logical operator in python. \"and\" Return the first false value. if not found return last. The truth table for \"and\" is depicted below.\n",
    "|A|B|A and B|\n",
    "|---|---|---|\n",
    "|True|True|True|\n",
    "|True|False|False|\n",
    "|False|True|False|\n",
    "|False|False|False|"
   ]
  },
  {
   "cell_type": "markdown",
   "id": "obvious-maryland",
   "metadata": {},
   "source": [
    "5. **or:** This a logical operator in pyton. \"or\" Return the first True value. if not found return last. The truth table for \"or is depicted below.\n",
    "\n",
    "|A|B|A or B|\n",
    "|---|---|---|\n",
    "|True|True|True|\n",
    "|True|False|True|\n",
    "|False|True|True|\n",
    "|False|False|False|"
   ]
  },
  {
   "cell_type": "markdown",
   "id": "downtown-celebrity",
   "metadata": {},
   "source": [
    "6. **not:** This logical operator inverts the truth value. The truth table of \"not\" is depicted below.\n",
    "|A|not A|\n",
    "|--|--|\n",
    "|True|False|\n",
    "|False|True|"
   ]
  },
  {
   "cell_type": "code",
   "execution_count": null,
   "id": "peaceful-timing",
   "metadata": {},
   "outputs": [],
   "source": [
    "print(True or False)\n",
    "print(False and True)\n",
    "print(not True)"
   ]
  },
  {
   "cell_type": "markdown",
   "id": "actual-comparison",
   "metadata": {},
   "source": [
    "7. **assert:** This function is used for debugging purposes. Usually used to check the corresponding correctness of code. If a statement evalluated to true, nothing happens, but when it is false, **\"AssertionError\"** is raised. One can also print a message with the error, separated by a comma.\n",
    "\n",
    "8. **break:** \"break\" is used to control the flow of the loop. The statement is used to breal out of the loop and passes the control to the statement following immediately after loop.\n",
    "\n",
    "9. **continue:** \"continue\" is also used to control the flow of code. The keyword skips the current iteration of the loop, but does not end the loop.\n",
    "\n",
    "Note: break and continue keywords will be discussed in loops and control statements.\n",
    "\n",
    "10. **class:** This keyword is used to declare user defined classes. You will get to know more about class in OPP's concept.\n",
    "\n",
    "11. **def:** This keyword is used to declare user defined functions. You will get to know more about def in Functions concept.\n",
    "\n",
    "12. **if:** It is a control statement for decision making. Truth expression forces control to go in \"if\" statement block.\n",
    "\n",
    "13. **else:** It is a control statement for decision making. False expression forces control to go in \"else\" statement block.\n",
    "\n",
    "14. **elif:** It is a control statement for decision making. It is short for \"else if\".\n",
    "\n",
    "15. **del:** del is used to delete a reference to an object. Any variabel or list value can be deleted using del."
   ]
  },
  {
   "cell_type": "code",
   "execution_count": null,
   "id": "widespread-nebraska",
   "metadata": {},
   "outputs": [],
   "source": [
    "a = [1,2,3]\n",
    "print(\"the list before deleting any value\")\n",
    "print(a)\n",
    "\n",
    "del a[1]\n",
    "\n",
    "print(\"The list after deleting 2nd element\")\n",
    "print(a)"
   ]
  },
  {
   "cell_type": "code",
   "execution_count": null,
   "id": "federal-pipeline",
   "metadata": {},
   "outputs": [],
   "source": [
    "assert 5<3, \"5 is not smaller than 3\""
   ]
  },
  {
   "cell_type": "markdown",
   "id": "korean-combine",
   "metadata": {},
   "source": [
    "16. **try:** This keyword is used for exception handling, used to catch the errors in the code using the keyword except. Code in  \"try\" block is checked, if there is any type of error, except block is executed.\n",
    "\n",
    "17. **except:** As explained above, this works together with \"try\" to catch exceptions.\n",
    "\n",
    "18. **raise:** Also used to exception handling to explicitly raise exceptions.\n",
    "\n",
    "19. **finally:** No matter what id result of the \"try\" block, block termed \"finally\" is always executed."
   ]
  },
  {
   "cell_type": "code",
   "execution_count": null,
   "id": "composed-clothing",
   "metadata": {},
   "outputs": [],
   "source": [
    "a = [1, 2, 3] \n",
    "try:  \n",
    "    print(\"Second element = %d\" %(a[1]))\n",
    "  \n",
    "    # Throws error since there are only 3 elements in array \n",
    "    print(\"Fourth element = %d\" %(a[3]))\n",
    "except IndexError: \n",
    "    print(\"An error occurred\")"
   ]
  },
  {
   "cell_type": "code",
   "execution_count": null,
   "id": "deadly-yukon",
   "metadata": {},
   "outputs": [],
   "source": [
    "try:  \n",
    "    raise NameError(\"Hi there\")  # Raise Error \n",
    "except NameError: \n",
    "    print(\"An exception\")\n",
    "    raise  # To determine whether the exception was raised or not "
   ]
  },
  {
   "cell_type": "code",
   "execution_count": null,
   "id": "violent-division",
   "metadata": {},
   "outputs": [],
   "source": [
    "try:  \n",
    "    k = 5//0 # raises divide by zero exception.  \n",
    "    print(k)  \n",
    "    \n",
    "# handles zerodivision exception      \n",
    "except ZeroDivisionError:     \n",
    "    print(\"Can't divide by zero\")  \n",
    "        \n",
    "finally:  \n",
    "    # this block is always executed   \n",
    "    # regardless of exception generation.  \n",
    "    print('This is always executed')   "
   ]
  },
  {
   "cell_type": "markdown",
   "id": "affecting-glass",
   "metadata": {},
   "source": [
    "20. **for:** This keyword is used to control flow and for looping.\n",
    "\n",
    "21. **while:** Has a similar working like \"for\", use to control flow and for looping.\n",
    "\n",
    "22. **pass:** It is the null statement in python. Nothing happens when this is encountered. This is used to prevent indentation errors and used as a placeholder.\n",
    "\n",
    "23. **import:** This statements is used to include a particular module into current program.\n",
    "\n",
    "24. **from:** Generally used with import, from is used to import particular functionality from the module imported.\n",
    "\n",
    "25. **as:** This keyword is used to create the alias for the module imported. i.e giving a new name to the imported module.\n",
    "\n",
    "26. **lambda:** This keyword is used to make inline returning functions with no statements allowed internally. \n",
    "\n",
    "27. **return:** This keyword is used to return from the function. \n",
    "\n",
    "28. **yield:** This keyword is used like return statement but is used return a generator. \n",
    "\n",
    "29. **with:** This keyword is used to wrap the execution of block of code within methods defined by context manager. This keyword is not used much in day to day programming.\n",
    "\n",
    "30. **in:** This keyword is used to check if a container contains a value. This keyword is also used to loop through the container.\n",
    "\n",
    "31. **is:** This keyword is used to test object identity, i.e to check if both the objects take same memory locations or not."
   ]
  },
  {
   "cell_type": "code",
   "execution_count": 1,
   "id": "lonely-banner",
   "metadata": {},
   "outputs": [
    {
     "name": "stdout",
     "output_type": "stream",
     "text": [
      "s is not part of Hello, World!\n",
      "H e l l o ,   W o r l d ! \r\n"
     ]
    }
   ],
   "source": [
    "if 's' in 'Hello, World!':\n",
    "    print(\" s is part of Hello, World!\")\n",
    "else:\n",
    "    print(\"s is not part of Hello, World!\")\n",
    "    \n",
    "for i in 'Hello, World!':\n",
    "    print(i,end=\" \")\n",
    "\n",
    "print(\"\\r\")"
   ]
  },
  {
   "cell_type": "code",
   "execution_count": 4,
   "id": "patient-light",
   "metadata": {},
   "outputs": [
    {
     "name": "stdout",
     "output_type": "stream",
     "text": [
      "True\n"
     ]
    },
    {
     "name": "stderr",
     "output_type": "stream",
     "text": [
      "<>:1: SyntaxWarning: \"is\" with a literal. Did you mean \"==\"?\n",
      "<>:1: SyntaxWarning: \"is\" with a literal. Did you mean \"==\"?\n",
      "<ipython-input-4-cb4e44872f57>:1: SyntaxWarning: \"is\" with a literal. Did you mean \"==\"?\n",
      "  print('1' is '1')\n"
     ]
    }
   ],
   "source": [
    "print('1' is '1')"
   ]
  },
  {
   "cell_type": "code",
   "execution_count": 3,
   "id": "applicable-chapel",
   "metadata": {},
   "outputs": [
    {
     "name": "stdout",
     "output_type": "stream",
     "text": [
      "False\n"
     ]
    }
   ],
   "source": [
    "print({} is {})"
   ]
  },
  {
   "cell_type": "markdown",
   "id": "stone-context",
   "metadata": {},
   "source": [
    "32. **global:** This keyword is used to define a variable inside the function to be of a global scope.\n",
    "\n",
    "33. **non-local:** This keyword works similar to the global, but rather than global, this keyword declares a variable to variable of outside enclosing function, in case of nested funtionc."
   ]
  },
  {
   "cell_type": "code",
   "execution_count": 9,
   "id": "ideal-recipient",
   "metadata": {},
   "outputs": [
    {
     "name": "stdout",
     "output_type": "stream",
     "text": [
      "10\n",
      "5\n",
      "5\n"
     ]
    }
   ],
   "source": [
    "a = 10\n",
    "\n",
    "def read():\n",
    "    print(a)\n",
    "        \n",
    "def mod1():\n",
    "    global a\n",
    "    a = 5\n",
    "    \n",
    "def mod2():\n",
    "    a = 15\n",
    "\n",
    "read()\n",
    "\n",
    "mod1()\n",
    "read()\n",
    "\n",
    "mod2()\n",
    "read()\n"
   ]
  },
  {
   "cell_type": "code",
   "execution_count": 7,
   "id": "turned-motor",
   "metadata": {},
   "outputs": [
    {
     "name": "stdout",
     "output_type": "stream",
     "text": [
      "Value of a using nonlocal is : 10\n"
     ]
    }
   ],
   "source": [
    "print (\"Value of a using nonlocal is : \",end=\"\")\n",
    "def outer():\n",
    "    a = 5\n",
    "    def inner():\n",
    "        nonlocal a \n",
    "        a = 10\n",
    "    inner()\n",
    "    print (a)\n",
    "\n",
    "outer()"
   ]
  },
  {
   "cell_type": "code",
   "execution_count": 8,
   "id": "herbal-bleeding",
   "metadata": {},
   "outputs": [
    {
     "name": "stdout",
     "output_type": "stream",
     "text": [
      "Value of a without using nonlocal is : 5\n"
     ]
    }
   ],
   "source": [
    "print (\"Value of a without using nonlocal is : \",end=\"\")\n",
    "def outer():\n",
    "    a = 5\n",
    "    def inner():\n",
    "        a = 10\n",
    "    inner()\n",
    "    print (a)\n",
    "outer()"
   ]
  },
  {
   "cell_type": "code",
   "execution_count": null,
   "id": "fantastic-lemon",
   "metadata": {},
   "outputs": [],
   "source": []
  }
 ],
 "metadata": {
  "kernelspec": {
   "display_name": "Python 3",
   "language": "python",
   "name": "python3"
  },
  "language_info": {
   "codemirror_mode": {
    "name": "ipython",
    "version": 3
   },
   "file_extension": ".py",
   "mimetype": "text/x-python",
   "name": "python",
   "nbconvert_exporter": "python",
   "pygments_lexer": "ipython3",
   "version": "3.8.5"
  }
 },
 "nbformat": 4,
 "nbformat_minor": 5
}
